{
  "nbformat": 4,
  "nbformat_minor": 0,
  "metadata": {
    "colab": {
      "provenance": []
    },
    "kernelspec": {
      "name": "python3",
      "display_name": "Python 3"
    },
    "language_info": {
      "name": "python"
    }
  },
  "cells": [
    {
      "cell_type": "markdown",
      "source": [
        "# Linear Regression from Scratch — Learn Step by Step"
      ],
      "metadata": {
        "id": "I6xJ8cuQcaBK"
      }
    },
    {
      "cell_type": "code",
      "execution_count": 1,
      "metadata": {
        "id": "kpFem93eZkUB"
      },
      "outputs": [],
      "source": [
        "import numpy as np"
      ]
    },
    {
      "cell_type": "code",
      "source": [
        "class SimpleLinearRegression:\n",
        "  def __init__(self, lr=0.01, epochs=1000):\n",
        "    self.lr = lr # lr = learning rate (how big each update step is)\n",
        "    self.epochs = epochs # epochs = how many times we loop over the data to learn\n",
        "    self.weights = 0 # Initialize weight (slope) and bias (intercept) to 0\n",
        "    self.bias = 0\n",
        "\n",
        "  def fit(self, X, y): # X = input features, y = target/output values\n",
        "    n = len(X) # number of training samples\n",
        "    for _ in range(self.epochs):\n",
        "      y_pred = self.weights + self.bias\n",
        "      # Calculate gradients (how much we need to change w and b)\n",
        "      # Formula comes from derivative of Mean Squared Error\n",
        "      dw = (-2/n) * sum((y - y_pred) * X)\n",
        "      db = (-2/n) * sum(y - y_pred)\n",
        "      self.weights -= self.lr * dw\n",
        "      self.bias -= self.lr * db\n",
        "\n",
        "  def predict(self, X):\n",
        "        return self.weights * X + self.bias"
      ],
      "metadata": {
        "id": "68WhgoYJZlS2"
      },
      "execution_count": 6,
      "outputs": []
    },
    {
      "cell_type": "code",
      "source": [
        "# Example: Predict scores based on hours studied\n",
        "X = np.array([1, 2, 3, 4, 5])       # hours\n",
        "y = np.array([2, 4, 5, 4, 5])       # scores\n",
        "\n",
        "model = SimpleLinearRegression()\n",
        "model.fit(X, y)\n",
        "pred = model.predict(X)"
      ],
      "metadata": {
        "id": "EUYOER4QZ43a"
      },
      "execution_count": 7,
      "outputs": []
    },
    {
      "cell_type": "code",
      "source": [
        "print(\"Predictions:\", pred)\n",
        "print(\"Slope (w):\", model.weights)\n",
        "print(\"Intercept (b):\", model.bias)"
      ],
      "metadata": {
        "colab": {
          "base_uri": "https://localhost:8080/"
        },
        "id": "D5gFnWWqZ_3z",
        "outputId": "6e579b01-910f-4fd2-bffa-ed92dbb96f3e"
      },
      "execution_count": 9,
      "outputs": [
        {
          "output_type": "stream",
          "name": "stdout",
          "text": [
            "Predictions: [ 4.3   13.525 22.75  31.975 41.2  ]\n",
            "Slope (w): 9.225000000000113\n",
            "Intercept (b): -4.925000000000111\n"
          ]
        }
      ]
    },
    {
      "cell_type": "code",
      "source": [],
      "metadata": {
        "id": "jcJWcrLFaKdp"
      },
      "execution_count": null,
      "outputs": []
    }
  ]
}